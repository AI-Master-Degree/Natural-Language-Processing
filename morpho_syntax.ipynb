{
 "cells": [
  {
   "cell_type": "markdown",
   "metadata": {
    "id": "r7jLyL9AZIte"
   },
   "source": [
    "morpho_syntax"
   ]
  },
  {
   "cell_type": "markdown",
   "metadata": {
    "id": "wlPu2Do2ZURt"
   },
   "source": [
    "Ex 1.1 Choose a wikipedia article. You will download and acces the article using this python module: wikipedia. Use the content property to extract the text. Print the title of the article and the first N=200 words from the article to verify that all works well. Print the POS-tagging for the first N=20 sentences."
   ]
  },
  {
   "cell_type": "code",
   "execution_count": null,
   "metadata": {
    "colab": {
     "base_uri": "https://localhost:8080/"
    },
    "id": "vZ9xV2AwdeqF",
    "outputId": "f983fcd1-1c7a-4fbe-8bb8-b21aa735dc4f"
   },
   "outputs": [
    {
     "name": "stdout",
     "output_type": "stream",
     "text": [
      "Collecting wikipedia\n",
      "  Downloading wikipedia-1.4.0.tar.gz (27 kB)\n",
      "  Preparing metadata (setup.py) ... \u001b[?25l\u001b[?25hdone\n",
      "Requirement already satisfied: beautifulsoup4 in /usr/local/lib/python3.10/dist-packages (from wikipedia) (4.12.3)\n",
      "Requirement already satisfied: requests<3.0.0,>=2.0.0 in /usr/local/lib/python3.10/dist-packages (from wikipedia) (2.31.0)\n",
      "Requirement already satisfied: charset-normalizer<4,>=2 in /usr/local/lib/python3.10/dist-packages (from requests<3.0.0,>=2.0.0->wikipedia) (3.3.2)\n",
      "Requirement already satisfied: idna<4,>=2.5 in /usr/local/lib/python3.10/dist-packages (from requests<3.0.0,>=2.0.0->wikipedia) (3.7)\n",
      "Requirement already satisfied: urllib3<3,>=1.21.1 in /usr/local/lib/python3.10/dist-packages (from requests<3.0.0,>=2.0.0->wikipedia) (2.0.7)\n",
      "Requirement already satisfied: certifi>=2017.4.17 in /usr/local/lib/python3.10/dist-packages (from requests<3.0.0,>=2.0.0->wikipedia) (2024.2.2)\n",
      "Requirement already satisfied: soupsieve>1.2 in /usr/local/lib/python3.10/dist-packages (from beautifulsoup4->wikipedia) (2.5)\n",
      "Building wheels for collected packages: wikipedia\n",
      "  Building wheel for wikipedia (setup.py) ... \u001b[?25l\u001b[?25hdone\n",
      "  Created wheel for wikipedia: filename=wikipedia-1.4.0-py3-none-any.whl size=11680 sha256=289e5a4b17a8e98539ea975f8b0525a6ea2c55fdc47a9f1276c3aae882e4522f\n",
      "  Stored in directory: /root/.cache/pip/wheels/5e/b6/c5/93f3dec388ae76edc830cb42901bb0232504dfc0df02fc50de\n",
      "Successfully built wikipedia\n",
      "Installing collected packages: wikipedia\n",
      "Successfully installed wikipedia-1.4.0\n"
     ]
    }
   ],
   "source": [
    "!pip install wikipedia"
   ]
  },
  {
   "cell_type": "code",
   "execution_count": null,
   "metadata": {
    "colab": {
     "base_uri": "https://localhost:8080/"
    },
    "id": "KI5JfeOcZCd3",
    "outputId": "ef5857e6-1ce8-4389-eacb-da26d48e2fe1"
   },
   "outputs": [
    {
     "name": "stdout",
     "output_type": "stream",
     "text": [
      "Title of the article: Company\n",
      "First 200 words of the article:\n",
      "A company, abbreviated as co., is a legal entity representing an association of legal people, whether natural, juridical or a mixture of both, with a specific objective. Company members share a common purpose and unite to achieve specific, declared goals. Over time, companies have evolved to have following features: \"separate legal personality, limited liability, transferable shares, investor ownership, and a managerial hierarchy\". The company, as an entity, was created by the state which granted the privilege of incorporation. Companies take various forms, such as: voluntary associations, which may include nonprofit organizations business entities, whose aim is to generate sales, revenue, and profit. financial entities and banks programs or educational institutions A company can be created as a legal person so that the company itself has limited liability as members perform or fail to discharge their duties according to the publicly declared incorporation published policy. When a company closes, it may need to be liquidated to avoid further legal obligations. Companies may associate and collectively register themselves as new companies; the resulting entities are often known as corporate groups. == Meanings and definitions == A company can be defined as an \"artificial person\", invisible, intangible, created by or under law, with\n",
      "Sentence 1 POS-tags:\n",
      "[('A', 'DT'), ('company', 'NN'), (',', ','), ('abbreviated', 'VBD'), ('as', 'IN'), ('co.', 'NN'), (',', ','), ('is', 'VBZ'), ('a', 'DT'), ('legal', 'JJ'), ('entity', 'NN'), ('representing', 'VBG'), ('an', 'DT'), ('association', 'NN'), ('of', 'IN'), ('legal', 'JJ'), ('people', 'NNS'), (',', ','), ('whether', 'IN'), ('natural', 'JJ'), (',', ','), ('juridical', 'JJ'), ('or', 'CC'), ('a', 'DT'), ('mixture', 'NN'), ('of', 'IN'), ('both', 'DT'), (',', ','), ('with', 'IN'), ('a', 'DT'), ('specific', 'JJ'), ('objective', 'NN'), ('.', '.')]\n",
      "Sentence 2 POS-tags:\n",
      "[('Company', 'NN'), ('members', 'NNS'), ('share', 'NN'), ('a', 'DT'), ('common', 'JJ'), ('purpose', 'NN'), ('and', 'CC'), ('unite', 'JJ'), ('to', 'TO'), ('achieve', 'VB'), ('specific', 'JJ'), (',', ','), ('declared', 'JJ'), ('goals', 'NNS'), ('.', '.')]\n",
      "Sentence 3 POS-tags:\n",
      "[('Over', 'IN'), ('time', 'NN'), (',', ','), ('companies', 'NNS'), ('have', 'VBP'), ('evolved', 'VBN'), ('to', 'TO'), ('have', 'VB'), ('following', 'VBG'), ('features', 'NNS'), (':', ':'), ('``', '``'), ('separate', 'JJ'), ('legal', 'JJ'), ('personality', 'NN'), (',', ','), ('limited', 'JJ'), ('liability', 'NN'), (',', ','), ('transferable', 'JJ'), ('shares', 'NNS'), (',', ','), ('investor', 'NN'), ('ownership', 'NN'), (',', ','), ('and', 'CC'), ('a', 'DT'), ('managerial', 'JJ'), ('hierarchy', 'NN'), (\"''\", \"''\"), ('.', '.')]\n",
      "Sentence 4 POS-tags:\n",
      "[('The', 'DT'), ('company', 'NN'), (',', ','), ('as', 'IN'), ('an', 'DT'), ('entity', 'NN'), (',', ','), ('was', 'VBD'), ('created', 'VBN'), ('by', 'IN'), ('the', 'DT'), ('state', 'NN'), ('which', 'WDT'), ('granted', 'VBD'), ('the', 'DT'), ('privilege', 'NN'), ('of', 'IN'), ('incorporation', 'NN'), ('.', '.')]\n",
      "Sentence 5 POS-tags:\n",
      "[('Companies', 'NNS'), ('take', 'VBP'), ('various', 'JJ'), ('forms', 'NNS'), (',', ','), ('such', 'JJ'), ('as', 'IN'), (':', ':'), ('voluntary', 'JJ'), ('associations', 'NNS'), (',', ','), ('which', 'WDT'), ('may', 'MD'), ('include', 'VB'), ('nonprofit', 'JJ'), ('organizations', 'NNS'), ('business', 'NN'), ('entities', 'NNS'), (',', ','), ('whose', 'WP$'), ('aim', 'NN'), ('is', 'VBZ'), ('to', 'TO'), ('generate', 'VB'), ('sales', 'NNS'), (',', ','), ('revenue', 'NN'), (',', ','), ('and', 'CC'), ('profit', 'NN'), ('.', '.')]\n",
      "Sentence 6 POS-tags:\n",
      "[('financial', 'JJ'), ('entities', 'NNS'), ('and', 'CC'), ('banks', 'NNS'), ('programs', 'NNS'), ('or', 'CC'), ('educational', 'JJ'), ('institutions', 'NNS'), ('A', 'DT'), ('company', 'NN'), ('can', 'MD'), ('be', 'VB'), ('created', 'VBN'), ('as', 'IN'), ('a', 'DT'), ('legal', 'JJ'), ('person', 'NN'), ('so', 'IN'), ('that', 'IN'), ('the', 'DT'), ('company', 'NN'), ('itself', 'PRP'), ('has', 'VBZ'), ('limited', 'VBN'), ('liability', 'NN'), ('as', 'IN'), ('members', 'NNS'), ('perform', 'VBP'), ('or', 'CC'), ('fail', 'VBP'), ('to', 'TO'), ('discharge', 'VB'), ('their', 'PRP$'), ('duties', 'NNS'), ('according', 'VBG'), ('to', 'TO'), ('the', 'DT'), ('publicly', 'RB'), ('declared', 'VBN'), ('incorporation', 'NN'), ('published', 'VBN'), ('policy', 'NN'), ('.', '.')]\n",
      "Sentence 7 POS-tags:\n",
      "[('When', 'WRB'), ('a', 'DT'), ('company', 'NN'), ('closes', 'VBZ'), (',', ','), ('it', 'PRP'), ('may', 'MD'), ('need', 'VB'), ('to', 'TO'), ('be', 'VB'), ('liquidated', 'VBN'), ('to', 'TO'), ('avoid', 'VB'), ('further', 'JJ'), ('legal', 'JJ'), ('obligations', 'NNS'), ('.', '.')]\n",
      "Sentence 8 POS-tags:\n",
      "[('Companies', 'NNS'), ('may', 'MD'), ('associate', 'VB'), ('and', 'CC'), ('collectively', 'RB'), ('register', 'JJ'), ('themselves', 'PRP'), ('as', 'IN'), ('new', 'JJ'), ('companies', 'NNS'), (';', ':'), ('the', 'DT'), ('resulting', 'JJ'), ('entities', 'NNS'), ('are', 'VBP'), ('often', 'RB'), ('known', 'VBN'), ('as', 'IN'), ('corporate', 'JJ'), ('groups', 'NNS'), ('.', '.')]\n",
      "Sentence 9 POS-tags:\n",
      "[('==', 'JJ'), ('Meanings', 'NNS'), ('and', 'CC'), ('definitions', 'NNS'), ('==', 'VBP'), ('A', 'DT'), ('company', 'NN'), ('can', 'MD'), ('be', 'VB'), ('defined', 'VBN'), ('as', 'IN'), ('an', 'DT'), ('``', '``'), ('artificial', 'JJ'), ('person', 'NN'), (\"''\", \"''\"), (',', ','), ('invisible', 'JJ'), (',', ','), ('intangible', 'JJ'), (',', ','), ('created', 'VBN'), ('by', 'IN'), ('or', 'CC'), ('under', 'IN'), ('law', 'NN'), (',', ','), ('with', 'IN'), ('a', 'DT'), ('discrete', 'JJ'), ('legal', 'JJ'), ('capacity', 'NN'), ('(', '('), ('or', 'CC'), ('``', '``'), ('personality', 'NN'), (\"''\", \"''\"), (')', ')'), (',', ','), ('perpetual', 'JJ'), ('succession', 'NN'), (',', ','), ('and', 'CC'), ('a', 'DT'), ('common', 'JJ'), ('seal', 'NN'), ('.', '.')]\n",
      "Sentence 10 POS-tags:\n",
      "[('Except', 'IN'), ('for', 'IN'), ('some', 'DT'), ('senior', 'JJ'), ('positions', 'NNS'), (',', ','), ('companies', 'NNS'), ('remain', 'VBP'), ('unaffected', 'JJ'), ('by', 'IN'), ('the', 'DT'), ('death', 'NN'), (',', ','), ('insanity', 'NN'), (',', ','), ('or', 'CC'), ('insolvency', 'NN'), ('of', 'IN'), ('an', 'DT'), ('individual', 'JJ'), ('member', 'NN'), ('.', '.')]\n",
      "Sentence 11 POS-tags:\n",
      "[('===', 'JJ'), ('Etymology', 'NNP'), ('===', 'NNP'), ('The', 'DT'), ('English', 'NNP'), ('word', 'NN'), (',', ','), ('``', '``'), ('company', 'NN'), (',', ','), (\"''\", \"''\"), ('has', 'VBZ'), ('its', 'PRP$'), ('origins', 'NNS'), ('in', 'IN'), ('the', 'DT'), ('Old', 'NNP'), ('French', 'JJ'), ('term', 'NN'), ('compagnie', 'NN'), ('(', '('), ('first', 'RB'), ('recorded', 'VBN'), ('in', 'IN'), ('1150', 'CD'), (')', ')'), (',', ','), ('meaning', 'VBG'), ('``', '``'), ('society', 'NN'), (',', ','), ('friendship', 'NN'), (',', ','), ('intimacy', 'NN'), (';', ':'), ('body', 'NN'), ('of', 'IN'), ('soldiers', 'NNS'), (\"''\", \"''\"), (',', ','), ('which', 'WDT'), ('came', 'VBD'), ('from', 'IN'), ('the', 'DT'), ('Late', 'NNP'), ('Latin', 'NNP'), ('word', 'NN'), ('companio', 'NN'), ('(', '('), ('``', '``'), ('one', 'CD'), ('who', 'WP'), ('eats', 'VBZ'), ('bread', 'VBP'), ('with', 'IN'), ('you', 'PRP'), (\"''\", \"''\"), (')', ')'), (',', ','), ('first', 'RB'), ('attested', 'VBN'), ('in', 'IN'), ('the', 'DT'), ('Salic', 'NNP'), ('law', 'NN'), ('(', '('), ('c.', 'JJ'), ('AD', 'NNP'), ('500', 'CD'), (')', ')'), ('as', 'IN'), ('a', 'DT'), ('calque', 'NN'), ('of', 'IN'), ('the', 'DT'), ('Germanic', 'NNP'), ('expression', 'NN'), ('gahlaibo', 'NN'), ('(', '('), ('literally', 'RB'), (',', ','), ('``', '``'), ('with', 'IN'), ('bread', 'NN'), (\"''\", \"''\"), (')', ')'), (',', ','), ('related', 'VBN'), ('to', 'TO'), ('Old', 'NNP'), ('High', 'JJ'), ('German', 'NNP'), ('galeipo', 'NN'), ('(', '('), ('``', '``'), ('companion', 'NN'), (\"''\", \"''\"), (')', ')'), ('and', 'CC'), ('to', 'TO'), ('Gothic', 'NNP'), ('gahlaiba', 'NN'), ('(', '('), ('``', '``'), ('messmate', 'VB'), (\"''\", \"''\"), (')', ')'), ('.', '.')]\n",
      "Sentence 12 POS-tags:\n",
      "[('===', 'JJ'), ('Semantics', 'NNPS'), ('and', 'CC'), ('usage', 'JJ'), ('===', 'NN'), ('By', 'IN'), ('1303', 'CD'), (',', ','), ('the', 'DT'), ('word', 'NN'), ('company', 'NN'), ('referred', 'VBD'), ('to', 'TO'), ('trade', 'VB'), ('guilds', 'NNS'), ('.', '.')]\n",
      "Sentence 13 POS-tags:\n",
      "[('The', 'DT'), ('usage', 'NN'), ('of', 'IN'), ('the', 'DT'), ('term', 'NN'), ('company', 'NN'), ('to', 'TO'), ('mean', 'VB'), ('``', '``'), ('business', 'NN'), ('association', 'NN'), (\"''\", \"''\"), ('was', 'VBD'), ('first', 'RB'), ('recorded', 'VBN'), ('in', 'IN'), ('1553', 'CD'), (',', ','), ('and', 'CC'), ('the', 'DT'), ('abbreviation', 'NN'), ('``', '``'), ('co.', 'NN'), (\"''\", \"''\"), ('dates', 'NNS'), ('from', 'IN'), ('1769', 'CD'), ('.', '.')]\n",
      "Sentence 14 POS-tags:\n",
      "[('==', 'NN'), ('Companies', 'NNPS'), ('around', 'IN'), ('the', 'DT'), ('world', 'NN'), ('==', 'NN'), ('===', 'NNP'), ('China', 'NNP'), ('===', 'NNP'), ('In', 'IN'), ('China', 'NNP'), (',', ','), ('companies', 'NNS'), ('are', 'VBP'), ('often', 'RB'), ('government', 'NN'), ('run', 'NN'), ('or', 'CC'), ('government', 'NN'), ('supported', 'VBD'), ('.', '.')]\n",
      "Sentence 15 POS-tags:\n",
      "[('Other', 'JJ'), ('companies', 'NNS'), ('may', 'MD'), ('be', 'VB'), ('foreign', 'JJ'), ('companies', 'NNS'), ('or', 'CC'), ('export-based', 'JJ'), ('corporations', 'NNS'), ('.', '.')]\n",
      "Sentence 16 POS-tags:\n",
      "[('According', 'VBG'), ('to', 'TO'), ('the', 'DT'), ('Company', 'NNP'), ('Law', 'NNP'), ('of', 'IN'), ('the', 'DT'), ('People', 'NNP'), (\"'s\", 'POS'), ('Republic', 'NNP'), ('of', 'IN'), ('China', 'NNP'), (',', ','), ('companies', 'NNS'), ('include', 'VBP'), ('the', 'DT'), ('limited', 'JJ'), ('liability', 'NN'), ('company', 'NN'), ('and', 'CC'), ('joint-stock', 'NN'), ('limited', 'JJ'), ('company', 'NN'), ('which', 'WDT'), ('founded', 'VBD'), ('in', 'IN'), ('the', 'DT'), ('mainland', 'NN'), ('China', 'NNP'), ('.', '.')]\n",
      "Sentence 17 POS-tags:\n",
      "[('===', 'RB'), ('United', 'NNP'), ('Kingdom', 'NNP'), ('===', 'NNP'), ('In', 'IN'), ('English', 'NNP'), ('law', 'NN'), ('and', 'CC'), ('in', 'IN'), ('legal', 'JJ'), ('jurisdictions', 'NNS'), ('based', 'VBN'), ('upon', 'IN'), ('it', 'PRP'), (',', ','), ('a', 'DT'), ('company', 'NN'), ('is', 'VBZ'), ('a', 'DT'), ('body', 'NN'), ('corporate', 'JJ'), ('or', 'CC'), ('corporation', 'NN'), ('company', 'NN'), ('registered', 'VBD'), ('under', 'IN'), ('the', 'DT'), ('Companies', 'NNPS'), ('Acts', 'NNPS'), ('or', 'CC'), ('under', 'IN'), ('similar', 'JJ'), ('legislation', 'NN'), ('.', '.')]\n",
      "Sentence 18 POS-tags:\n",
      "[('Common', 'JJ'), ('forms', 'NNS'), ('include', 'VBP'), (':', ':'), ('Private', 'JJ'), ('companies', 'NNS'), ('limited', 'VBN'), ('by', 'IN'), ('guarantee', 'NN'), ('Community', 'NNP'), ('interest', 'NN'), ('company', 'NN'), ('Charitable', 'NNP'), ('incorporated', 'JJ'), ('organisation', 'NN'), ('Private', 'NNP'), ('companies', 'NNS'), ('limited', 'VBN'), ('by', 'IN'), ('shares', 'NNS'), ('-', ':'), ('the', 'DT'), ('most', 'RBS'), ('common', 'JJ'), ('form', 'NN'), ('of', 'IN'), ('company', 'NN'), ('Public', 'NNP'), ('limited', 'VBD'), ('companies', 'NNS'), ('-', ':'), ('companies', 'NNS'), (',', ','), ('usually', 'RB'), ('large', 'JJ'), (',', ','), ('which', 'WDT'), ('are', 'VBP'), ('permitted', 'VBN'), ('to', 'TO'), ('(', '('), ('but', 'CC'), ('do', 'VBP'), ('not', 'RB'), ('have', 'VB'), ('to', 'TO'), (')', ')'), ('offer', 'VB'), ('their', 'PRP$'), ('shares', 'NNS'), ('to', 'TO'), ('the', 'DT'), ('public', 'NN'), (',', ','), ('for', 'IN'), ('example', 'NN'), ('on', 'IN'), ('a', 'DT'), ('stock', 'NN'), ('exchange', 'NN'), ('In', 'IN'), ('the', 'DT'), ('United', 'NNP'), ('Kingdom', 'NNP'), (',', ','), ('a', 'DT'), ('partnership', 'NN'), ('is', 'VBZ'), ('not', 'RB'), ('legally', 'RB'), ('a', 'DT'), ('company', 'NN'), (',', ','), ('but', 'CC'), ('may', 'MD'), ('sometimes', 'RB'), ('be', 'VB'), ('referred', 'VBN'), ('to', 'TO'), ('(', '('), ('informally', 'RB'), (')', ')'), ('as', 'IN'), ('a', 'DT'), ('``', '``'), ('company', 'NN'), (\"''\", \"''\"), ('.', '.')]\n",
      "Sentence 19 POS-tags:\n",
      "[('It', 'PRP'), ('may', 'MD'), ('be', 'VB'), ('referred', 'VBN'), ('to', 'TO'), ('as', 'IN'), ('a', 'DT'), ('``', '``'), ('firm', 'NN'), (\"''\", \"''\"), ('.', '.')]\n",
      "Sentence 20 POS-tags:\n",
      "[('===', 'RB'), ('United', 'NNP'), ('States', 'NNPS'), ('===', 'VBP'), ('In', 'IN'), ('the', 'DT'), ('United', 'NNP'), ('States', 'NNPS'), (',', ','), ('a', 'DT'), ('company', 'NN'), ('is', 'VBZ'), ('not', 'RB'), ('necessarily', 'RB'), ('a', 'DT'), ('corporation', 'NN'), ('.', '.')]\n"
     ]
    }
   ],
   "source": [
    "import wikipedia\n",
    "import nltk\n",
    "from nltk.tokenize import sent_tokenize, word_tokenize\n",
    "from nltk import pos_tag\n",
    "\n",
    "def downl():\n",
    "    nltk_resources = ['punkt', 'averaged_perceptron_tagger']\n",
    "    for resource in nltk_resources:\n",
    "        nltk.download(resource, quiet=True)\n",
    "\n",
    "def wiki(title, lang='en'):\n",
    "    wikipedia.set_lang(lang)\n",
    "    return wikipedia.page(title)\n",
    "\n",
    "def process_text(content):\n",
    "    sentences = sent_tokenize(content)[:20]\n",
    "    return [pos_tag(word_tokenize(sent)) for sent in sentences]\n",
    "\n",
    "def main_func():\n",
    "    downl()\n",
    "    page = wiki('Company')\n",
    "\n",
    "    print(\"Title of the article:\", page.title)\n",
    "\n",
    "    words = page.content.split()[:200]\n",
    "    print(\"First 200 words of the article:\")\n",
    "    print(' '.join(words))\n",
    "\n",
    "    pos_tags = process_text(page.content)\n",
    "    for i, tags in enumerate(pos_tags):\n",
    "        print(f\"Sentence {i+1} POS-tags:\")\n",
    "        print(tags)\n",
    "\n",
    "main_func()"
   ]
  },
  {
   "cell_type": "markdown",
   "metadata": {
    "id": "STUuTa6wdtH_"
   },
   "source": [
    "Ex 1.2 Create a function that receives a part of speech tag and returns a list with all the words from the text (can be given as a parameter too) that represent that part of speech. Create a function that receives a list of POS tags and returns a list with words having any of the given POS tags (use the first function in implementing the second one)."
   ]
  },
  {
   "cell_type": "code",
   "execution_count": null,
   "metadata": {
    "colab": {
     "base_uri": "https://localhost:8080/"
    },
    "id": "YEYpFvq2dypA",
    "outputId": "b241971f-96b4-490f-d8e0-708e5ec2df64"
   },
   "outputs": [
    {
     "name": "stdout",
     "output_type": "stream",
     "text": [
      "Nouns: ['girl', 'front', 'crowd']\n",
      "Verbs or adjectives: ['shy', 'interested']\n"
     ]
    }
   ],
   "source": [
    "def f1(tag, text):\n",
    "    words = word_tokenize(text)\n",
    "    tagged_words = pos_tag(words)\n",
    "    return [word for word, pos in tagged_words if pos == tag]\n",
    "\n",
    "def f2(tags, text):\n",
    "    result_words = []\n",
    "    for tag in tags:\n",
    "        result_words.extend(f1(tag, text))\n",
    "    return result_words\n",
    "\n",
    "text = \"The shy girl presents in front of the interested crowd.\"\n",
    "print(\"Nouns:\", f1('NN', text))\n",
    "print(\"Verbs or adjectives:\", f2(['VB', 'JJ'], text))\n"
   ]
  },
  {
   "cell_type": "markdown",
   "metadata": {
    "id": "61LESEXNjv6f"
   },
   "source": [
    "Ex 1.3 Use the function above to print all the nouns (there are multiple tags for nouns), and, respectively all the verbs (corresponding to all verb tags). Also, print the percentage of content words (noun+verbs) from the entire text"
   ]
  },
  {
   "cell_type": "code",
   "execution_count": null,
   "metadata": {
    "colab": {
     "base_uri": "https://localhost:8080/"
    },
    "id": "M8bL-Y0Sj1f9",
    "outputId": "0f80e2a4-0ac8-4f21-853e-bc8f11846360"
   },
   "outputs": [
    {
     "name": "stdout",
     "output_type": "stream",
     "text": [
      "Nouns: ['AI', 'technology', 'industry', 'government', 'science', 'applications', 'search', 'engines']\n",
      "Verbs: ['is', 'used', 'include']\n",
      "Percentage of content words (nouns + verbs): 50.00%\n"
     ]
    }
   ],
   "source": [
    "def extract_words(tags, text):\n",
    "    tagged_words = pos_tag(word_tokenize(text))\n",
    "    tags_set = set(tags)\n",
    "    return [word for word, pos in tagged_words if pos in tags_set]\n",
    "\n",
    "def percentage(content_words, total_words):\n",
    "    return (content_words / total_words) * 100 if total_words > 0 else 0\n",
    "\n",
    "t = \"AI technology is widely used throughout industry, government, and science. Some high-profile applications include advanced web search engines.\"\n",
    "\n",
    "n = ['NN', 'NNS', 'NNP', 'NNPS']\n",
    "v = ['VB', 'VBD', 'VBG', 'VBN', 'VBP', 'VBZ']\n",
    "\n",
    "nouns = extract_words(n, t)\n",
    "verbs = extract_words(v, t)\n",
    "all_content_words = nouns + verbs\n",
    "\n",
    "print(\"Nouns:\", nouns)\n",
    "print(\"Verbs:\", verbs)\n",
    "\n",
    "total_words = len(word_tokenize(t))\n",
    "content_word_count = len(all_content_words)\n",
    "content_word_percentage = percentage(content_word_count, total_words)\n",
    "\n",
    "print(f\"Percentage of content words (nouns + verbs): {content_word_percentage:.2f}%\")\n"
   ]
  },
  {
   "cell_type": "markdown",
   "metadata": {
    "id": "sXnpC5Z8j3Ao"
   },
   "source": [
    "Ex 1.4 Print a table of four columns. The columns will be separated with the character \"|\". The head of the table will be:\n",
    "Original word | POS | Simple lemmatization | Lemmatization with POS\n",
    "that will compare the results of lemmatization (WordNetLemmatizer) without giving the part of speech and the lemmatization with the given part of speech for each word. The table must contain only words that give different results for the two lemmatizations (for example, the word \"running\" - without POS, the result will always be running, but with pos=\"v\" it is \"run\"). The table will contain the results for the first N sentences from the text (each row corresponding to a word). Try to print only distinct results inside the table (for example, if a word has two occurnces inside the text, and matches the requirments for appearing in the table, it should have only one corresponding row)."
   ]
  },
  {
   "cell_type": "code",
   "execution_count": null,
   "metadata": {
    "colab": {
     "base_uri": "https://localhost:8080/"
    },
    "id": "_kiUuQ-gj8lq",
    "outputId": "a92b6374-5f41-4c71-9b14-99c5fd8ade60"
   },
   "outputs": [
    {
     "name": "stdout",
     "output_type": "stream",
     "text": [
      "Original word | POS | Simple lemmatization | Lemmatization with POS\n",
      "is | VBZ | is | be\n",
      "used | VBN | used | use\n"
     ]
    },
    {
     "name": "stderr",
     "output_type": "stream",
     "text": [
      "[nltk_data] Downloading package averaged_perceptron_tagger to\n",
      "[nltk_data]     /root/nltk_data...\n",
      "[nltk_data]   Package averaged_perceptron_tagger is already up-to-\n",
      "[nltk_data]       date!\n",
      "[nltk_data] Downloading package wordnet to /root/nltk_data...\n",
      "[nltk_data]   Package wordnet is already up-to-date!\n",
      "[nltk_data] Downloading package omw-1.4 to /root/nltk_data...\n",
      "[nltk_data]   Package omw-1.4 is already up-to-date!\n"
     ]
    }
   ],
   "source": [
    "from nltk.stem import WordNetLemmatizer\n",
    "nltk.download('averaged_perceptron_tagger')\n",
    "nltk.download('wordnet')\n",
    "nltk.download('omw-1.4')\n",
    "\n",
    "def convert_wordnet(pos):\n",
    "    if pos.startswith('J'):\n",
    "        return 'a'\n",
    "    elif pos.startswith('V'):\n",
    "        return 'v'\n",
    "    elif pos.startswith('N'):\n",
    "        return 'n'\n",
    "    elif pos.startswith('R'):\n",
    "        return 'r'\n",
    "    return None\n",
    "\n",
    "def comparison(text, n_stcs):\n",
    "    lemmatizer = WordNetLemmatizer()\n",
    "    stcs = sent_tokenize(text)[:n_stcs]\n",
    "    results = {}\n",
    "\n",
    "    for sentence in stcs:\n",
    "        words = word_tokenize(sentence)\n",
    "        tagged_words = pos_tag(words)\n",
    "\n",
    "        for word, tag in tagged_words:\n",
    "            wn_tag = convert_wordnet(tag)\n",
    "            lem_word = lemmatizer.lemmatize(word)\n",
    "            lem_word_with_pos = lemmatizer.lemmatize(word, wn_tag) if wn_tag else lem_word\n",
    "\n",
    "            if lem_word != lem_word_with_pos:\n",
    "                key = (word, tag, lem_word, lem_word_with_pos)\n",
    "                if key not in results:\n",
    "                    results[key] = True\n",
    "\n",
    "    print(\"Original word | POS | Simple lemmatization | Lemmatization with POS\")\n",
    "    for (word, tag, lem_word, lem_word_with_pos), _ in results.items():\n",
    "        print(f\"{word} | {tag} | {lem_word} | {lem_word_with_pos}\")\n",
    "\n",
    "comparison(t, 2)"
   ]
  },
  {
   "cell_type": "markdown",
   "metadata": {
    "id": "0SXgxTgGmvD2"
   },
   "source": [
    "Ex 1.5 Print a graphic showing the number of words for each part of speech. If there are too many different parts of speech, you can print only those with a higher number of corresponding words."
   ]
  },
  {
   "cell_type": "code",
   "execution_count": null,
   "metadata": {
    "colab": {
     "base_uri": "https://localhost:8080/",
     "height": 501
    },
    "id": "swsx6sI0m1Fg",
    "outputId": "2c13eaed-39cd-41ae-bf7f-d1548ac46793"
   },
   "outputs": [
    {
     "data": {
      "image/png": "[encoded data removed]",
      "text/plain": [
       "<Figure size 1200x800 with 1 Axes>"
      ]
     },
     "metadata": {},
     "output_type": "display_data"
    }
   ],
   "source": [
    "import matplotlib.pyplot as plt\n",
    "\n",
    "def plott(text):\n",
    "    wds = word_tokenize(text)\n",
    "    tagged_wds = pos_tag(wds)\n",
    "    count_pos = {}\n",
    "    for _, tag in tagged_wds:\n",
    "        if tag in count_pos:\n",
    "            count_pos[tag] += 1\n",
    "        else:\n",
    "            count_pos[tag] = 1\n",
    "\n",
    "    threshold = 3\n",
    "    filtered_count_pos = {tag: count for tag, count in count_pos.items() if count > threshold}\n",
    "\n",
    "    labels, values = zip(*filtered_count_pos.items())\n",
    "\n",
    "    labels, values = zip(*sorted(zip(labels, values), key=lambda x: x[1], reverse=True))\n",
    "\n",
    "    plt.figure(figsize=(12, 8))\n",
    "    plt.bar(labels, values, color='blue')\n",
    "    plt.xlabel('Parts of Speech')\n",
    "    plt.ylabel('Number of Words')\n",
    "    plt.title('Word Count for Each Part of Speech')\n",
    "    plt.xticks(rotation=45)\n",
    "    plt.tight_layout()\n",
    "    plt.show()\n",
    "te=\"The growing use of artificial intelligence in the 21st century is influencing a societal and economic shift towards increased automation, data-driven decision-making, and the integration of AI systems into various economic sectors and areas of life, impacting job markets, healthcare, government, industry, and education. This raises questions about the long-term effects, ethical implications, and risks of AI, prompting discussions about regulatory policies to ensure the safety and benefits of the technology.\"\n",
    "plott(te)"
   ]
  },
  {
   "cell_type": "markdown",
   "metadata": {
    "id": "DOD1E0nMn-6l"
   },
   "source": [
    "Ex 1.6 Create your own grammar with different terminal symbols. Apply recursive descent parsing on a sentence with at least 5 different parts of speech and a tree of at least level 4."
   ]
  },
  {
   "cell_type": "code",
   "execution_count": null,
   "metadata": {
    "colab": {
     "base_uri": "https://localhost:8080/"
    },
    "id": "wEz0YBfDoFuE",
    "outputId": "e0840cdc-836f-4b63-d547-30440130706a"
   },
   "outputs": [
    {
     "name": "stdout",
     "output_type": "stream",
     "text": [
      "True\n"
     ]
    }
   ],
   "source": [
    "class Parser:\n",
    "    def __init__(self, tokens):\n",
    "        self.tokens = tokens\n",
    "        self.current_token = None\n",
    "        self.index = 0\n",
    "        self.next_token()\n",
    "\n",
    "    def next_token(self):\n",
    "        if self.index < len(self.tokens):\n",
    "            self.current_token = self.tokens[self.index]\n",
    "            self.index += 1\n",
    "        else:\n",
    "            self.current_token = None\n",
    "\n",
    "    def match(self, expected_tokens):\n",
    "        if self.current_token in expected_tokens:\n",
    "            self.next_token()\n",
    "            return True\n",
    "        return False\n",
    "\n",
    "    def parse_s(self):\n",
    "        initial_index = self.index\n",
    "        if self.parse_np() and self.parse_vp():\n",
    "            if self.match(['and', 'but']):\n",
    "                return self.parse_s()\n",
    "            return True\n",
    "        self.index = initial_index\n",
    "        return False\n",
    "\n",
    "    def parse_np(self):\n",
    "        initial_index = self.index\n",
    "        if self.match(['the', 'a']) and self.parse_n():\n",
    "            return True\n",
    "        self.index = initial_index\n",
    "        return self.parse_n()\n",
    "\n",
    "    def parse_vp(self):\n",
    "        initial_index = self.index\n",
    "        if self.parse_v():\n",
    "            if self.current_token in ['the', 'a', 'dog', 'cat']:\n",
    "                return self.parse_np()\n",
    "            return True\n",
    "        self.index = initial_index\n",
    "        return False\n",
    "\n",
    "    def parse_n(self):\n",
    "        return self.match(['dog', 'cat'])\n",
    "\n",
    "    def parse_v(self):\n",
    "        return self.match(['chases', 'sees'])\n",
    "\n",
    "    def parse(self):\n",
    "        if not self.parse_s() or self.current_token is not None:\n",
    "            print(\"Parsing failed. Remaining tokens:\", self.tokens[self.index-1:])\n",
    "            return False\n",
    "        return True\n",
    "\n",
    "tokens = ['the', 'dog', 'chases', 'the', 'cat']\n",
    "parser = Parser(tokens)\n",
    "print(parser.parse())\n"
   ]
  },
  {
   "cell_type": "markdown",
   "metadata": {
    "id": "vKpKyG-DsLT_"
   },
   "source": [
    "Ex 1.7 Apply shift reduce parsing on the same sentence and check programatically if the two trees are equal. Find a sentence with equal trees and a sentence with different results (we consider the tree different even when it has no sollution for one of the parsers, but has for the other)."
   ]
  },
  {
   "cell_type": "code",
   "execution_count": null,
   "metadata": {
    "colab": {
     "base_uri": "https://localhost:8080/"
    },
    "id": "5MQ3PM2tsLHh",
    "outputId": "08f19c8e-df76-4fd4-b82a-8ec7f4cdc91a"
   },
   "outputs": [
    {
     "name": "stdout",
     "output_type": "stream",
     "text": [
      "Warning: VP -> V NP will never be used\n",
      "False\n"
     ]
    }
   ],
   "source": [
    "from nltk import CFG\n",
    "from nltk.parse import ShiftReduceParser, RecursiveDescentParser\n",
    "\n",
    "grammar = CFG.fromstring(\"\"\"\n",
    "  S -> NP VP\n",
    "  NP -> Det N | N\n",
    "  VP -> V NP | V\n",
    "  Det -> 'the' | 'a'\n",
    "  N -> 'girl' | 'bag'\n",
    "  V -> 'carries' | 'sees'\n",
    "\"\"\")\n",
    "\n",
    "sr_parser = ShiftReduceParser(grammar)\n",
    "rd_parser = RecursiveDescentParser(grammar)\n",
    "\n",
    "sentence = 'the girl carries the bag'.split()\n",
    "\n",
    "sr_trees = list(sr_parser.parse(sentence))\n",
    "rd_trees = list(rd_parser.parse(sentence))\n",
    "\n",
    "def compare_trees(trees1, trees2):\n",
    "    trees1 = {str(tree) for tree in trees1}\n",
    "    trees2 = {str(tree) for tree in trees2}\n",
    "    return trees1 == trees2\n",
    "\n",
    "comparison_result = compare_trees(sr_trees, rd_trees)\n",
    "print(comparison_result)\n"
   ]
  }
 ],
 "metadata": {
  "colab": {
   "provenance": []
  },
  "kernelspec": {
   "display_name": "Python 3",
   "name": "python3"
  },
  "language_info": {
   "name": "python"
  }
 },
 "nbformat": 4,
 "nbformat_minor": 0
}
